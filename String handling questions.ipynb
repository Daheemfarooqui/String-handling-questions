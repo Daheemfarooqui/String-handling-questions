{
 "cells": [
  {
   "cell_type": "raw",
   "id": "faa9a0c4-2662-4a31-8ec1-61ab8b7494fd",
   "metadata": {},
   "source": [
    "                                          10  String handling questions"
   ]
  },
  {
   "cell_type": "code",
   "execution_count": null,
   "id": "94bf65f5-9b25-45e9-80b7-79532cbd1f6c",
   "metadata": {},
   "outputs": [],
   "source": []
  },
  {
   "cell_type": "markdown",
   "id": "0f2aa9f1-8f96-4658-8be0-702b63885900",
   "metadata": {},
   "source": [
    "### Question 1: Write a function that counts the occurrences of a specific character in a given string.\n"
   ]
  },
  {
   "cell_type": "code",
   "execution_count": 15,
   "id": "deb51b5b-e478-4acc-879f-f101598ac9b4",
   "metadata": {},
   "outputs": [
    {
     "name": "stdin",
     "output_type": "stream",
     "text": [
      "enter a string my name is daheem \n",
      "enter the specific character to count e\n"
     ]
    },
    {
     "name": "stdout",
     "output_type": "stream",
     "text": [
      "Occurrences of specific character is : 3\n"
     ]
    }
   ],
   "source": [
    "def count_specific(input_string,specific_char):\n",
    "    count = 0\n",
    "    for char in input_string:\n",
    "        if char == specific_char:\n",
    "            count += 1\n",
    "    return count\n",
    "input_string = input(\"enter a string\")\n",
    "specific_char = input(\"enter the specific character to count\")\n",
    "result = count_specific(input_string,specific_char)\n",
    "print(\"Occurrences of specific character is :\",result)"
   ]
  },
  {
   "cell_type": "markdown",
   "id": "f8159ff6-9ed1-4f9b-936a-71a7c9566d46",
   "metadata": {},
   "source": [
    "### Question 2: Write a function that reverses the order of words in a given string."
   ]
  },
  {
   "cell_type": "code",
   "execution_count": 16,
   "id": "809482ae-8c82-41e5-9314-16cff697ec57",
   "metadata": {},
   "outputs": [
    {
     "name": "stdin",
     "output_type": "stream",
     "text": [
      "Enter a string daheem\n"
     ]
    },
    {
     "name": "stdout",
     "output_type": "stream",
     "text": [
      " Reversed string is : meehad\n"
     ]
    }
   ],
   "source": [
    "def reverse_word(input_string):\n",
    "    return input_string[::-1]\n",
    "    \n",
    "    \n",
    "input_string = input(\"Enter a string\")\n",
    "reverse_word = reverse_word(input_string)\n",
    "\n",
    "print(\" Reversed string is :\",reverse_word)"
   ]
  },
  {
   "cell_type": "markdown",
   "id": "3bc01962-884c-4ee6-9b21-f9f09a4b8ac5",
   "metadata": {},
   "source": [
    "### Question 3: Write a function that removes all spaces from a given string."
   ]
  },
  {
   "cell_type": "code",
   "execution_count": 17,
   "id": "bb67b9d9-c8cd-4909-bc71-068a3b73bad2",
   "metadata": {},
   "outputs": [
    {
     "name": "stdin",
     "output_type": "stream",
     "text": [
      " enter a string my name is daheem\n"
     ]
    },
    {
     "name": "stdout",
     "output_type": "stream",
     "text": [
      "Remove all the spaces from the string is; mynameisdaheem\n"
     ]
    }
   ],
   "source": [
    "def remove_string(input_string):\n",
    "    return input_string.replace(\" \",\"\")\n",
    "\n",
    "input_string = input(\" enter a string\")\n",
    "removed_string = remove_string(input_string)\n",
    "print(\"Remove all the spaces from the string is;\",removed_string)\n"
   ]
  },
  {
   "cell_type": "markdown",
   "id": "5a977b57-f7a5-4cfd-a919-e913a8b356b3",
   "metadata": {},
   "source": [
    "### Question 4: Write a function that concatenates two strings without using the + operator."
   ]
  },
  {
   "cell_type": "code",
   "execution_count": 18,
   "id": "c05f7c34-24e8-46a1-9e2e-8c72d2457dde",
   "metadata": {},
   "outputs": [
    {
     "name": "stdin",
     "output_type": "stream",
     "text": [
      "enter a string daheem\n",
      "enter other string farooqui\n"
     ]
    },
    {
     "name": "stdout",
     "output_type": "stream",
     "text": [
      "the concate is : daheem farooqui\n"
     ]
    }
   ],
   "source": [
    "def concat_string(input_string,con_string):\n",
    "    return \"{} {}\" .format(input_string,con_string)\n",
    "\n",
    "input_string = input(\"enter a string\")\n",
    "con_string = input(\"enter other string\")\n",
    "result = concat_string(input_string,con_string)\n",
    "print(\"the concate is :\",result)"
   ]
  },
  {
   "cell_type": "markdown",
   "id": "11b215fc-6308-41a9-8f64-4a8f1d6f1f0d",
   "metadata": {},
   "source": [
    "### Question 5: Write a function to check if a given string is a palindrome (reads the same forwards and backwards)."
   ]
  },
  {
   "cell_type": "code",
   "execution_count": 19,
   "id": "22d75dfb-0b61-4ab0-855d-2f6900591229",
   "metadata": {},
   "outputs": [
    {
     "name": "stdin",
     "output_type": "stream",
     "text": [
      "enter a string Daheem\n"
     ]
    },
    {
     "name": "stdout",
     "output_type": "stream",
     "text": [
      "string is not palidrome\n"
     ]
    }
   ],
   "source": [
    "def is_palindrome(input_string):\n",
    "    input_string = input_string.replace(\" \",\"\").lower()\n",
    "    return input_string == input_string[::-1]\n",
    "\n",
    "input_string = input(\"enter a string\")\n",
    "result = is_palindrome(input_string)\n",
    "if result:\n",
    "    print(\"string is palindrome\")\n",
    "else:\n",
    "    print(\"string is not palidrome\")\n",
    "    "
   ]
  },
  {
   "cell_type": "markdown",
   "id": "4e7b7708-b39c-45ff-b594-de1a0462b9e4",
   "metadata": {},
   "source": [
    "### question 6: Write a function that swaps the case of each character in a given string (convert lowercase to uppercase )"
   ]
  },
  {
   "cell_type": "code",
   "execution_count": 20,
   "id": "e5dc2a1e-a6fa-4adb-905e-6ca9ec6ecc86",
   "metadata": {},
   "outputs": [
    {
     "name": "stdin",
     "output_type": "stream",
     "text": [
      " enter a string daheem\n"
     ]
    },
    {
     "name": "stdout",
     "output_type": "stream",
     "text": [
      "swaps thr case is DAHEEM\n"
     ]
    }
   ],
   "source": [
    "def string_upper(input_string):\n",
    "    return input_string.upper()\n",
    "\n",
    "input_string = input(\" enter a string\")\n",
    "result = string_upper(input_string)\n",
    "print(\"swaps thr case is\", result)"
   ]
  },
  {
   "cell_type": "markdown",
   "id": "65c47bad-3cb8-4b9f-b47a-faf797c049e7",
   "metadata": {},
   "source": [
    "### Question 7: Write a function that removes all duplicate characters from a given string."
   ]
  },
  {
   "cell_type": "code",
   "execution_count": 21,
   "id": "f74f7cdc-5493-4ed9-a135-8bfdbffcaf33",
   "metadata": {},
   "outputs": [
    {
     "name": "stdin",
     "output_type": "stream",
     "text": [
      " enter a string Daheem\n"
     ]
    },
    {
     "name": "stdout",
     "output_type": "stream",
     "text": [
      "after removing duplicate: Dahem\n"
     ]
    }
   ],
   "source": [
    "def remove_duplicate(input_string):\n",
    "    unique = \"\"\n",
    "    for char in input_string:\n",
    "        if char not in unique:\n",
    "            unique += char\n",
    "    return unique\n",
    "input_string = input(\" enter a string\")\n",
    "result = remove_duplicate(input_string)\n",
    "print(\"after removing duplicate:\",result)"
   ]
  },
  {
   "cell_type": "markdown",
   "id": "6598d4c3-c949-42ae-84f5-2e0f26068041",
   "metadata": {},
   "source": [
    "### Question 8: Write a function that converts the first character of each word in a given string to uppercase.\n"
   ]
  },
  {
   "cell_type": "code",
   "execution_count": 22,
   "id": "210989ec-f818-45b0-ba05-6f8356747d11",
   "metadata": {},
   "outputs": [
    {
     "name": "stdin",
     "output_type": "stream",
     "text": [
      " enter a string my name is daheem\n"
     ]
    },
    {
     "name": "stdout",
     "output_type": "stream",
     "text": [
      "My Name Is Daheem\n"
     ]
    }
   ],
   "source": [
    "def title_string(input_string):\n",
    "    return input_string.title()\n",
    "\n",
    "input_string = input(\" enter a string\")\n",
    "result = title_string(input_string)\n",
    "print(result)"
   ]
  },
  {
   "cell_type": "markdown",
   "id": "f3763725-8533-4e23-8657-100f1ce90ce3",
   "metadata": {},
   "source": [
    "### Question 9: Write a function that sorts the characters of a given string in alphabetical order.\n"
   ]
  },
  {
   "cell_type": "code",
   "execution_count": 23,
   "id": "e900476f-18d9-4b4d-8a7e-e3220b541337",
   "metadata": {},
   "outputs": [
    {
     "name": "stdin",
     "output_type": "stream",
     "text": [
      "enter a string daheem\n"
     ]
    },
    {
     "name": "stdout",
     "output_type": "stream",
     "text": [
      " sort string is  a d e e h m\n"
     ]
    }
   ],
   "source": [
    "def sort_string(input_string):\n",
    "    sorted_string = \" \".join(sorted(input_string))\n",
    "    return sorted_string\n",
    "    \n",
    "input_string = input(\"enter a string\")\n",
    "result = sort_string(input_string)\n",
    "print(\" sort string is \",result)"
   ]
  },
  {
   "cell_type": "markdown",
   "id": "1f79e54c-eceb-4664-a259-a52fc69ed82f",
   "metadata": {},
   "source": [
    " ### Question 10: Write a function that checks if two strings are anagrams of each other (contain the same characters in different order)."
   ]
  },
  {
   "cell_type": "code",
   "execution_count": 24,
   "id": "e44cd049-37e4-4ead-a895-d97e864adc81",
   "metadata": {},
   "outputs": [
    {
     "name": "stdin",
     "output_type": "stream",
     "text": [
      " enter a string daheem\n",
      "enter a string farooqui\n"
     ]
    },
    {
     "name": "stdout",
     "output_type": "stream",
     "text": [
      "the string are not anagrams\n"
     ]
    }
   ],
   "source": [
    "def is_anagrams(input_string,input_string2):\n",
    "    input_string = input_string.replace(\" \",\"\").lower()\n",
    "    input_string2 = input_string2.replace(\" \",\"\").lower()\n",
    "    return sorted(input_string) == sorted(input_string2)\n",
    "\n",
    "\n",
    "input_string = input(\" enter a string\")\n",
    "input_string2 = input(\"enter a string\")\n",
    "result = is_anagrams(input_string,input_string2)\n",
    "if result:\n",
    "    print(\"the string is anagrams to each other\")\n",
    "\n",
    "else:\n",
    "    print(\"the string are not anagrams\")\n"
   ]
  },
  {
   "cell_type": "code",
   "execution_count": null,
   "id": "f6174654-f68b-4b55-9578-b696fc932a00",
   "metadata": {},
   "outputs": [],
   "source": []
  }
 ],
 "metadata": {
  "kernelspec": {
   "display_name": "Python 3 (ipykernel)",
   "language": "python",
   "name": "python3"
  },
  "language_info": {
   "codemirror_mode": {
    "name": "ipython",
    "version": 3
   },
   "file_extension": ".py",
   "mimetype": "text/x-python",
   "name": "python",
   "nbconvert_exporter": "python",
   "pygments_lexer": "ipython3",
   "version": "3.10.8"
  }
 },
 "nbformat": 4,
 "nbformat_minor": 5
}
