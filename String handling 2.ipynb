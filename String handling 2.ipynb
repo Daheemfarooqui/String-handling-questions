{
 "cells": [
  {
   "cell_type": "markdown",
   "id": "b164c103-ce48-4b95-adc5-15662461d6ac",
   "metadata": {},
   "source": [
    "# 10 simple string handling question "
   ]
  },
  {
   "cell_type": "markdown",
   "id": "fad71382-6d25-4008-8bc4-056760b5b0c4",
   "metadata": {},
   "source": [
    "### Question 1: Write a function to reverse a given string\n"
   ]
  },
  {
   "cell_type": "code",
   "execution_count": 1,
   "id": "2c8cb994-8671-4c61-860e-3892efc3bab1",
   "metadata": {},
   "outputs": [
    {
     "name": "stdin",
     "output_type": "stream",
     "text": [
      "Enter a String Daheem\n"
     ]
    },
    {
     "name": "stdout",
     "output_type": "stream",
     "text": [
      "Reverse String is : meehaD\n"
     ]
    }
   ],
   "source": [
    "def reverse_string(input_string):\n",
    "    return input_string[::-1]\n",
    "\n",
    "input_string = input(\"Enter a String\")\n",
    "result = reverse_string(input_string)\n",
    "print(\"Reverse String is :\",result)"
   ]
  },
  {
   "cell_type": "markdown",
   "id": "581e20c7-1cee-4932-97bf-c7f10c33d0c0",
   "metadata": {},
   "source": [
    "### Question 2: Write a function to calculate the length of a given string."
   ]
  },
  {
   "cell_type": "code",
   "execution_count": 2,
   "id": "a9b31f27-9356-4d78-8db3-cf9ab94ada8e",
   "metadata": {},
   "outputs": [
    {
     "name": "stdin",
     "output_type": "stream",
     "text": [
      "Enter a string my name is daheem farooqui\n"
     ]
    },
    {
     "name": "stdout",
     "output_type": "stream",
     "text": [
      " lenth of string is : 26\n"
     ]
    }
   ],
   "source": [
    "def string_lenth(input_string):\n",
    "    \n",
    "    return len(input_string)\n",
    "\n",
    "input_string = input(\"Enter a string\")\n",
    "result  = string_lenth(input_string)\n",
    "print(\" lenth of string is :\",result)"
   ]
  },
  {
   "cell_type": "markdown",
   "id": "02221aaa-90f2-4392-b778-a56135712827",
   "metadata": {},
   "source": [
    "### Question 3: Write a function to concatenate multiple strings into one."
   ]
  },
  {
   "cell_type": "code",
   "execution_count": 3,
   "id": "a7c3c839-8ebd-41d3-a151-54015f7577c0",
   "metadata": {},
   "outputs": [
    {
     "name": "stdin",
     "output_type": "stream",
     "text": [
      "Enter first string daheem\n",
      "Enter second string ahmad \n",
      "Enter third string farooqui\n"
     ]
    },
    {
     "name": "stdout",
     "output_type": "stream",
     "text": [
      " aftar concatenate the result is : daheem ahmad  farooqui\n"
     ]
    }
   ],
   "source": [
    "def concat_string(input_string1 , input_string2, input_string3):\n",
    "    return input_string1 +\" \" + input_string2 +\" \" + input_string3\n",
    "\n",
    "input_string1 = input(\"Enter first string\")\n",
    "input_string2 = input(\"Enter second string\")\n",
    "input_string3 = input(\"Enter third string\")\n",
    "result = concat_string(input_string1 , input_string2, input_string3)\n",
    "print(\" aftar concatenate the result is :\",result)"
   ]
  },
  {
   "cell_type": "markdown",
   "id": "cdbb51ce-4851-4e24-97e8-2130592df0f1",
   "metadata": {},
   "source": [
    "### Question 4: Write a function to repeat a given string a specified number of times."
   ]
  },
  {
   "cell_type": "code",
   "execution_count": 4,
   "id": "590bee45-4fc5-452e-913d-555b53c18e1b",
   "metadata": {},
   "outputs": [
    {
     "name": "stdin",
     "output_type": "stream",
     "text": [
      " enter a string daheem\n",
      "enter a number of times to repeat thr string 5\n"
     ]
    },
    {
     "ename": "NameError",
     "evalue": "name 'num_times' is not defined",
     "output_type": "error",
     "traceback": [
      "\u001b[0;31m---------------------------------------------------------------------------\u001b[0m",
      "\u001b[0;31mNameError\u001b[0m                                 Traceback (most recent call last)",
      "Cell \u001b[0;32mIn[4], line 9\u001b[0m\n\u001b[1;32m      7\u001b[0m input_string \u001b[38;5;241m=\u001b[39m \u001b[38;5;28minput\u001b[39m(\u001b[38;5;124m\"\u001b[39m\u001b[38;5;124m enter a string\u001b[39m\u001b[38;5;124m\"\u001b[39m)\n\u001b[1;32m      8\u001b[0m num_string \u001b[38;5;241m=\u001b[39m \u001b[38;5;28mint\u001b[39m(\u001b[38;5;28minput\u001b[39m(\u001b[38;5;124m\"\u001b[39m\u001b[38;5;124menter a number of times to repeat thr string\u001b[39m\u001b[38;5;124m\"\u001b[39m))\n\u001b[0;32m----> 9\u001b[0m result \u001b[38;5;241m=\u001b[39m repeat_string(input_string, \u001b[43mnum_times\u001b[49m)\n\u001b[1;32m     10\u001b[0m \u001b[38;5;28mprint\u001b[39m(result)\n",
      "\u001b[0;31mNameError\u001b[0m: name 'num_times' is not defined"
     ]
    }
   ],
   "source": [
    "def repeat_string(input_string, num_times):\n",
    "    repeated_string = \"\"\n",
    "    for _ in range(num_times):\n",
    "        repeated_string += input_string\n",
    "    return repeated_string\n",
    "   \n",
    "input_string = input(\" enter a string\")\n",
    "num_string = int(input(\"enter a number of times to repeat thr string\"))\n",
    "result = repeat_string(input_string, num_times)\n",
    "print(result)\n",
    "        "
   ]
  },
  {
   "cell_type": "markdown",
   "id": "aa36d2c9-87cb-4876-a5a2-74bd01a6fffc",
   "metadata": {},
   "source": [
    "### Question :5 Write a function to compare two strings and return True if they are equal, False otherwise."
   ]
  },
  {
   "cell_type": "code",
   "execution_count": 11,
   "id": "09048726-4aed-43b4-b068-b8ab6e444bdc",
   "metadata": {},
   "outputs": [
    {
     "name": "stdin",
     "output_type": "stream",
     "text": [
      "entr a string Daheem\n",
      "enter a value to compare farooqi\n"
     ]
    },
    {
     "name": "stdout",
     "output_type": "stream",
     "text": [
      " The answere is False\n"
     ]
    }
   ],
   "source": [
    "def compare_string(input_string,copare_string):\n",
    "    if input_string == copare_string:\n",
    "        print(\"The answere is true\")\n",
    "    else:\n",
    "        print(\" The answere is False\")\n",
    "        \n",
    "input_string = input(\"entr a string\")\n",
    "copare_string = input(\"enter a value to compare\")\n",
    "result = compare_string(input_string,copare_string)"
   ]
  },
  {
   "cell_type": "markdown",
   "id": "4b67a137-a581-4c38-8c4a-fdcbc5af2ee2",
   "metadata": {},
   "source": [
    "### Question 6: Write a function to extract a substring from a given string based on start and end indices."
   ]
  },
  {
   "cell_type": "code",
   "execution_count": 25,
   "id": "611150e2-b099-4779-a2dd-4ded64f045a2",
   "metadata": {},
   "outputs": [
    {
     "name": "stdin",
     "output_type": "stream",
     "text": [
      " enter a string daheem\n",
      "enter the start indices 0\n",
      "enter a end indices 6\n"
     ]
    },
    {
     "name": "stdout",
     "output_type": "stream",
     "text": [
      "extracted substring is: daheem\n"
     ]
    }
   ],
   "source": [
    "def sub_string(input_string, start_string, end_string):\n",
    "    return input_string[start_string:end_string]\n",
    "\n",
    "input_string = input(\" enter a string\")\n",
    "start_string = int(input(\"enter the start indices\"))\n",
    "end_string = int(input(\"enter a end indices\"))\n",
    "result = sub_string(input_string, start_string, end_string)\n",
    "print(\"extracted substring is:\",result)"
   ]
  },
  {
   "cell_type": "markdown",
   "id": "200d3861-6b14-4e28-a3d4-7e1b0007efc3",
   "metadata": {},
   "source": [
    "### Question 7: Write a function to convert the case of a given string to uppercase or lowercase."
   ]
  },
  {
   "cell_type": "code",
   "execution_count": 39,
   "id": "f39d9725-2c50-4b21-88d9-bf813844ae6b",
   "metadata": {},
   "outputs": [
    {
     "name": "stdin",
     "output_type": "stream",
     "text": [
      "enter a string On Sunday, Turkish Foreign Minister Hakan Fidan conversed with US Secretary of State Antony Blinken over the phone, emphasizing that the Gaza conflict is central to the Israel-Iran issue. Diplomatic sources underscored Fidan's reminder and highlighted his call for a ceasefire to avert further escalation of the crisis.\n",
      " choose upper or lower upper\n"
     ]
    },
    {
     "name": "stdout",
     "output_type": "stream",
     "text": [
      "ON SUNDAY, TURKISH FOREIGN MINISTER HAKAN FIDAN CONVERSED WITH US SECRETARY OF STATE ANTONY BLINKEN OVER THE PHONE, EMPHASIZING THAT THE GAZA CONFLICT IS CENTRAL TO THE ISRAEL-IRAN ISSUE. DIPLOMATIC SOURCES UNDERSCORED FIDAN'S REMINDER AND HIGHLIGHTED HIS CALL FOR A CEASEFIRE TO AVERT FURTHER ESCALATION OF THE CRISIS.\n",
      "On Sunday, Turkish Foreign Minister Hakan Fidan conversed with US Secretary of State Antony Blinken over the phone, emphasizing that the Gaza conflict is central to the Israel-Iran issue. Diplomatic sources underscored Fidan's reminder and highlighted his call for a ceasefire to avert further escalation of the crisis.\n"
     ]
    }
   ],
   "source": [
    "def convert_string(input_string,case_string):\n",
    "    if case_string == optiona:\n",
    "        print(input_string.upper())\n",
    "    elif case_string == optionb:\n",
    "        print(input_string.lower())\n",
    "    else:\n",
    "        print(\"invalid option\")\n",
    "    return input_string\n",
    "optiona = \"upper\"\n",
    "optionb = \"lower\"\n",
    "input_string = input(\"enter a string\")\n",
    "case_string = input(\" choose upper or lower\")\n",
    "result = convert_string(input_string,case_string)\n",
    "print(result)"
   ]
  },
  {
   "cell_type": "markdown",
   "id": "379c9645-7f33-4cc6-9684-a62a4527d375",
   "metadata": {},
   "source": [
    "### Question 8: Write a function to remove leading and trailing whitespace from a given string."
   ]
  },
  {
   "cell_type": "code",
   "execution_count": 49,
   "id": "27886382-2939-4715-9f92-dc14edba2fda",
   "metadata": {},
   "outputs": [
    {
     "name": "stdin",
     "output_type": "stream",
     "text": [
      "enter a string gggg ggg ggg\n"
     ]
    },
    {
     "name": "stdout",
     "output_type": "stream",
     "text": [
      "Result is : gggg ggg ggg\n"
     ]
    }
   ],
   "source": [
    "def remove_whitespace(input_string):\n",
    "    return input_string.strip()\n",
    "\n",
    "input_string = input(\"enter a string\")\n",
    "result = remove_whitespace(input_string)\n",
    "print('Result is :', result)"
   ]
  },
  {
   "cell_type": "markdown",
   "id": "af0f53dd-242d-4404-be36-5d0cf3ad17f2",
   "metadata": {},
   "source": [
    "### Question 9: Write a function to check if a given string contains only alphabetic characters."
   ]
  },
  {
   "cell_type": "code",
   "execution_count": 61,
   "id": "2baacab8-06e2-41e0-a396-f738e41e4f1f",
   "metadata": {},
   "outputs": [
    {
     "name": "stdin",
     "output_type": "stream",
     "text": [
      "enter a string DAHEEM123\n"
     ]
    },
    {
     "name": "stdout",
     "output_type": "stream",
     "text": [
      " string not only contains alphabetic characters\n"
     ]
    }
   ],
   "source": [
    "def alphabetic_string(input_string):\n",
    "    return input_string.isalpha()\n",
    "\n",
    "input_string = input(\"enter a string\")\n",
    "if alphabetic_string(input_string):\n",
    "    print(\" string only contains alphabetic characters\")\n",
    "else:\n",
    "    print(\" string not only contains alphabetic characters\")"
   ]
  },
  {
   "cell_type": "markdown",
   "id": "7e4af7f7-8576-4a41-ba78-a855f80d9106",
   "metadata": {},
   "source": [
    "### Question 10: Write a function to split a given string into a list of substrings based on a delimiter."
   ]
  },
  {
   "cell_type": "code",
   "execution_count": 72,
   "id": "cdae1feb-19bb-4f13-b839-85597f8b0b25",
   "metadata": {},
   "outputs": [
    {
     "name": "stdin",
     "output_type": "stream",
     "text": [
      "enter a string daheem\n",
      " enter a delimiter ,\n"
     ]
    },
    {
     "name": "stdout",
     "output_type": "stream",
     "text": [
      "answere is : ['daheem']\n"
     ]
    }
   ],
   "source": [
    "def split_string(input_string,delimiter):\n",
    "    return input_string.split(delimiter)\n",
    "    \n",
    "\n",
    "input_string = input(\"enter a string\")\n",
    "delimiter = input(\" enter a delimiter\")\n",
    "result = split_string(input_string,delimiter)\n",
    "print(\"answere is :\",result)"
   ]
  },
  {
   "cell_type": "code",
   "execution_count": null,
   "id": "9933f7b2-0e2f-425a-af3f-419dd5560eff",
   "metadata": {},
   "outputs": [],
   "source": []
  }
 ],
 "metadata": {
  "kernelspec": {
   "display_name": "Python 3 (ipykernel)",
   "language": "python",
   "name": "python3"
  },
  "language_info": {
   "codemirror_mode": {
    "name": "ipython",
    "version": 3
   },
   "file_extension": ".py",
   "mimetype": "text/x-python",
   "name": "python",
   "nbconvert_exporter": "python",
   "pygments_lexer": "ipython3",
   "version": "3.10.8"
  }
 },
 "nbformat": 4,
 "nbformat_minor": 5
}
